{
 "cells": [
  {
   "cell_type": "code",
   "execution_count": 1,
   "metadata": {},
   "outputs": [],
   "source": [
    "from confluent_kafka import Consumer\n",
    "import json\n",
    "import ast"
   ]
  },
  {
   "cell_type": "code",
   "execution_count": 2,
   "metadata": {},
   "outputs": [],
   "source": [
    "# Create consumer\n",
    "consumer = Consumer({\n",
    "    'bootstrap.servers':'localhost',\n",
    "    'group.id': 'G1',\n",
    "    'auto.offset.reset': 'latest'\n",
    "})\n",
    "consumer.subscribe(['product'])"
   ]
  },
  {
   "cell_type": "code",
   "execution_count": 3,
   "metadata": {},
   "outputs": [],
   "source": [
    "# make list to save msg\n",
    "saved_msg = []"
   ]
  },
  {
   "cell_type": "code",
   "execution_count": 5,
   "metadata": {},
   "outputs": [
    {
     "name": "stdout",
     "output_type": "stream",
     "text": [
      "Received message: {'id': 1, 'title': 'iPhone 9', 'description': 'An apple mobile which is nothing like apple', 'price': 549, 'discountPercentage': 12.96, 'rating': 4.69, 'stock': 94, 'brand': 'Apple', 'category': 'smartphones', 'thumbnail': 'https://i.dummyjson.com/data/products/1/thumbnail.jpg', 'images': ['https://i.dummyjson.com/data/products/1/1.jpg', 'https://i.dummyjson.com/data/products/1/2.jpg', 'https://i.dummyjson.com/data/products/1/3.jpg', 'https://i.dummyjson.com/data/products/1/4.jpg', 'https://i.dummyjson.com/data/products/1/thumbnail.jpg']}\n",
      "[\"{'id': 1, 'title': 'iPhone 9', 'description': 'An apple mobile which is nothing like apple', 'price': 549, 'discountPercentage': 12.96, 'rating': 4.69, 'stock': 94, 'brand': 'Apple', 'category': 'smartphones', 'thumbnail': 'https://i.dummyjson.com/data/products/1/thumbnail.jpg', 'images': ['https://i.dummyjson.com/data/products/1/1.jpg', 'https://i.dummyjson.com/data/products/1/2.jpg', 'https://i.dummyjson.com/data/products/1/3.jpg', 'https://i.dummyjson.com/data/products/1/4.jpg', 'https://i.dummyjson.com/data/products/1/thumbnail.jpg']}\"]\n",
      "Received message: {'id': 3, 'title': 'Samsung Universe 9', 'description': \"Samsung's new variant which goes beyond Galaxy to the Universe\", 'price': 1249, 'discountPercentage': 15.46, 'rating': 4.09, 'stock': 36, 'brand': 'Samsung', 'category': 'smartphones', 'thumbnail': 'https://i.dummyjson.com/data/products/3/thumbnail.jpg', 'images': ['https://i.dummyjson.com/data/products/3/1.jpg']}\n",
      "[\"{'id': 1, 'title': 'iPhone 9', 'description': 'An apple mobile which is nothing like apple', 'price': 549, 'discountPercentage': 12.96, 'rating': 4.69, 'stock': 94, 'brand': 'Apple', 'category': 'smartphones', 'thumbnail': 'https://i.dummyjson.com/data/products/1/thumbnail.jpg', 'images': ['https://i.dummyjson.com/data/products/1/1.jpg', 'https://i.dummyjson.com/data/products/1/2.jpg', 'https://i.dummyjson.com/data/products/1/3.jpg', 'https://i.dummyjson.com/data/products/1/4.jpg', 'https://i.dummyjson.com/data/products/1/thumbnail.jpg']}\", '{\\'id\\': 3, \\'title\\': \\'Samsung Universe 9\\', \\'description\\': \"Samsung\\'s new variant which goes beyond Galaxy to the Universe\", \\'price\\': 1249, \\'discountPercentage\\': 15.46, \\'rating\\': 4.09, \\'stock\\': 36, \\'brand\\': \\'Samsung\\', \\'category\\': \\'smartphones\\', \\'thumbnail\\': \\'https://i.dummyjson.com/data/products/3/thumbnail.jpg\\', \\'images\\': [\\'https://i.dummyjson.com/data/products/3/1.jpg\\']}']\n",
      "Received message: {'id': 4, 'title': 'OPPOF19', 'description': 'OPPO F19 is officially announced on April 2021.', 'price': 280, 'discountPercentage': 17.91, 'rating': 4.3, 'stock': 123, 'brand': 'OPPO', 'category': 'smartphones', 'thumbnail': 'https://i.dummyjson.com/data/products/4/thumbnail.jpg', 'images': ['https://i.dummyjson.com/data/products/4/1.jpg', 'https://i.dummyjson.com/data/products/4/2.jpg', 'https://i.dummyjson.com/data/products/4/3.jpg', 'https://i.dummyjson.com/data/products/4/4.jpg', 'https://i.dummyjson.com/data/products/4/thumbnail.jpg']}\n",
      "[\"{'id': 1, 'title': 'iPhone 9', 'description': 'An apple mobile which is nothing like apple', 'price': 549, 'discountPercentage': 12.96, 'rating': 4.69, 'stock': 94, 'brand': 'Apple', 'category': 'smartphones', 'thumbnail': 'https://i.dummyjson.com/data/products/1/thumbnail.jpg', 'images': ['https://i.dummyjson.com/data/products/1/1.jpg', 'https://i.dummyjson.com/data/products/1/2.jpg', 'https://i.dummyjson.com/data/products/1/3.jpg', 'https://i.dummyjson.com/data/products/1/4.jpg', 'https://i.dummyjson.com/data/products/1/thumbnail.jpg']}\", '{\\'id\\': 3, \\'title\\': \\'Samsung Universe 9\\', \\'description\\': \"Samsung\\'s new variant which goes beyond Galaxy to the Universe\", \\'price\\': 1249, \\'discountPercentage\\': 15.46, \\'rating\\': 4.09, \\'stock\\': 36, \\'brand\\': \\'Samsung\\', \\'category\\': \\'smartphones\\', \\'thumbnail\\': \\'https://i.dummyjson.com/data/products/3/thumbnail.jpg\\', \\'images\\': [\\'https://i.dummyjson.com/data/products/3/1.jpg\\']}', \"{'id': 4, 'title': 'OPPOF19', 'description': 'OPPO F19 is officially announced on April 2021.', 'price': 280, 'discountPercentage': 17.91, 'rating': 4.3, 'stock': 123, 'brand': 'OPPO', 'category': 'smartphones', 'thumbnail': 'https://i.dummyjson.com/data/products/4/thumbnail.jpg', 'images': ['https://i.dummyjson.com/data/products/4/1.jpg', 'https://i.dummyjson.com/data/products/4/2.jpg', 'https://i.dummyjson.com/data/products/4/3.jpg', 'https://i.dummyjson.com/data/products/4/4.jpg', 'https://i.dummyjson.com/data/products/4/thumbnail.jpg']}\"]\n",
      "Received message: {'id': 5, 'title': 'Huawei P30', 'description': 'Huawei’s re-badged P30 Pro New Edition was officially unveiled yesterday in Germany and now the device has made its way to the UK.', 'price': 499, 'discountPercentage': 10.58, 'rating': 4.09, 'stock': 32, 'brand': 'Huawei', 'category': 'smartphones', 'thumbnail': 'https://i.dummyjson.com/data/products/5/thumbnail.jpg', 'images': ['https://i.dummyjson.com/data/products/5/1.jpg', 'https://i.dummyjson.com/data/products/5/2.jpg', 'https://i.dummyjson.com/data/products/5/3.jpg']}\n",
      "[\"{'id': 1, 'title': 'iPhone 9', 'description': 'An apple mobile which is nothing like apple', 'price': 549, 'discountPercentage': 12.96, 'rating': 4.69, 'stock': 94, 'brand': 'Apple', 'category': 'smartphones', 'thumbnail': 'https://i.dummyjson.com/data/products/1/thumbnail.jpg', 'images': ['https://i.dummyjson.com/data/products/1/1.jpg', 'https://i.dummyjson.com/data/products/1/2.jpg', 'https://i.dummyjson.com/data/products/1/3.jpg', 'https://i.dummyjson.com/data/products/1/4.jpg', 'https://i.dummyjson.com/data/products/1/thumbnail.jpg']}\", '{\\'id\\': 3, \\'title\\': \\'Samsung Universe 9\\', \\'description\\': \"Samsung\\'s new variant which goes beyond Galaxy to the Universe\", \\'price\\': 1249, \\'discountPercentage\\': 15.46, \\'rating\\': 4.09, \\'stock\\': 36, \\'brand\\': \\'Samsung\\', \\'category\\': \\'smartphones\\', \\'thumbnail\\': \\'https://i.dummyjson.com/data/products/3/thumbnail.jpg\\', \\'images\\': [\\'https://i.dummyjson.com/data/products/3/1.jpg\\']}', \"{'id': 4, 'title': 'OPPOF19', 'description': 'OPPO F19 is officially announced on April 2021.', 'price': 280, 'discountPercentage': 17.91, 'rating': 4.3, 'stock': 123, 'brand': 'OPPO', 'category': 'smartphones', 'thumbnail': 'https://i.dummyjson.com/data/products/4/thumbnail.jpg', 'images': ['https://i.dummyjson.com/data/products/4/1.jpg', 'https://i.dummyjson.com/data/products/4/2.jpg', 'https://i.dummyjson.com/data/products/4/3.jpg', 'https://i.dummyjson.com/data/products/4/4.jpg', 'https://i.dummyjson.com/data/products/4/thumbnail.jpg']}\", \"{'id': 5, 'title': 'Huawei P30', 'description': 'Huawei’s re-badged P30 Pro New Edition was officially unveiled yesterday in Germany and now the device has made its way to the UK.', 'price': 499, 'discountPercentage': 10.58, 'rating': 4.09, 'stock': 32, 'brand': 'Huawei', 'category': 'smartphones', 'thumbnail': 'https://i.dummyjson.com/data/products/5/thumbnail.jpg', 'images': ['https://i.dummyjson.com/data/products/5/1.jpg', 'https://i.dummyjson.com/data/products/5/2.jpg', 'https://i.dummyjson.com/data/products/5/3.jpg']}\"]\n",
      "Received message: {'id': 2, 'title': 'iPhone X', 'description': 'SIM-Free, Model A19211 6.5-inch Super Retina HD display with OLED technology A12 Bionic chip with ...', 'price': 899, 'discountPercentage': 17.94, 'rating': 4.44, 'stock': 34, 'brand': 'Apple', 'category': 'smartphones', 'thumbnail': 'https://i.dummyjson.com/data/products/2/thumbnail.jpg', 'images': ['https://i.dummyjson.com/data/products/2/1.jpg', 'https://i.dummyjson.com/data/products/2/2.jpg', 'https://i.dummyjson.com/data/products/2/3.jpg', 'https://i.dummyjson.com/data/products/2/thumbnail.jpg']}\n",
      "[\"{'id': 1, 'title': 'iPhone 9', 'description': 'An apple mobile which is nothing like apple', 'price': 549, 'discountPercentage': 12.96, 'rating': 4.69, 'stock': 94, 'brand': 'Apple', 'category': 'smartphones', 'thumbnail': 'https://i.dummyjson.com/data/products/1/thumbnail.jpg', 'images': ['https://i.dummyjson.com/data/products/1/1.jpg', 'https://i.dummyjson.com/data/products/1/2.jpg', 'https://i.dummyjson.com/data/products/1/3.jpg', 'https://i.dummyjson.com/data/products/1/4.jpg', 'https://i.dummyjson.com/data/products/1/thumbnail.jpg']}\", '{\\'id\\': 3, \\'title\\': \\'Samsung Universe 9\\', \\'description\\': \"Samsung\\'s new variant which goes beyond Galaxy to the Universe\", \\'price\\': 1249, \\'discountPercentage\\': 15.46, \\'rating\\': 4.09, \\'stock\\': 36, \\'brand\\': \\'Samsung\\', \\'category\\': \\'smartphones\\', \\'thumbnail\\': \\'https://i.dummyjson.com/data/products/3/thumbnail.jpg\\', \\'images\\': [\\'https://i.dummyjson.com/data/products/3/1.jpg\\']}', \"{'id': 4, 'title': 'OPPOF19', 'description': 'OPPO F19 is officially announced on April 2021.', 'price': 280, 'discountPercentage': 17.91, 'rating': 4.3, 'stock': 123, 'brand': 'OPPO', 'category': 'smartphones', 'thumbnail': 'https://i.dummyjson.com/data/products/4/thumbnail.jpg', 'images': ['https://i.dummyjson.com/data/products/4/1.jpg', 'https://i.dummyjson.com/data/products/4/2.jpg', 'https://i.dummyjson.com/data/products/4/3.jpg', 'https://i.dummyjson.com/data/products/4/4.jpg', 'https://i.dummyjson.com/data/products/4/thumbnail.jpg']}\", \"{'id': 5, 'title': 'Huawei P30', 'description': 'Huawei’s re-badged P30 Pro New Edition was officially unveiled yesterday in Germany and now the device has made its way to the UK.', 'price': 499, 'discountPercentage': 10.58, 'rating': 4.09, 'stock': 32, 'brand': 'Huawei', 'category': 'smartphones', 'thumbnail': 'https://i.dummyjson.com/data/products/5/thumbnail.jpg', 'images': ['https://i.dummyjson.com/data/products/5/1.jpg', 'https://i.dummyjson.com/data/products/5/2.jpg', 'https://i.dummyjson.com/data/products/5/3.jpg']}\", \"{'id': 2, 'title': 'iPhone X', 'description': 'SIM-Free, Model A19211 6.5-inch Super Retina HD display with OLED technology A12 Bionic chip with ...', 'price': 899, 'discountPercentage': 17.94, 'rating': 4.44, 'stock': 34, 'brand': 'Apple', 'category': 'smartphones', 'thumbnail': 'https://i.dummyjson.com/data/products/2/thumbnail.jpg', 'images': ['https://i.dummyjson.com/data/products/2/1.jpg', 'https://i.dummyjson.com/data/products/2/2.jpg', 'https://i.dummyjson.com/data/products/2/3.jpg', 'https://i.dummyjson.com/data/products/2/thumbnail.jpg']}\"]\n"
     ]
    },
    {
     "ename": "AttributeError",
     "evalue": "'NoneType' object has no attribute 'value'",
     "output_type": "error",
     "traceback": [
      "\u001b[1;31m---------------------------------------------------------------------------\u001b[0m",
      "\u001b[1;31mAttributeError\u001b[0m                            Traceback (most recent call last)",
      "Cell \u001b[1;32mIn[5], line 5\u001b[0m\n\u001b[0;32m      3\u001b[0m \u001b[39mwhile\u001b[39;00m \u001b[39mTrue\u001b[39;00m:\n\u001b[0;32m      4\u001b[0m     msg \u001b[39m=\u001b[39m consumer\u001b[39m.\u001b[39mpoll(\u001b[39m10\u001b[39m) \u001b[39m#set timeout to 10 sec\u001b[39;00m\n\u001b[1;32m----> 5\u001b[0m     saved_msg\u001b[39m.\u001b[39mappend(msg\u001b[39m.\u001b[39;49mvalue()\u001b[39m.\u001b[39mdecode(\u001b[39m'\u001b[39m\u001b[39mutf-8\u001b[39m\u001b[39m'\u001b[39m))\n\u001b[0;32m      7\u001b[0m     \u001b[39mif\u001b[39;00m msg \u001b[39mis\u001b[39;00m \u001b[39mNone\u001b[39;00m:\n\u001b[0;32m      8\u001b[0m         \u001b[39mprint\u001b[39m(\u001b[39m\"\u001b[39m\u001b[39mNO Message...cont...!!!\u001b[39m\u001b[39m\"\u001b[39m)\n",
      "\u001b[1;31mAttributeError\u001b[0m: 'NoneType' object has no attribute 'value'"
     ]
    }
   ],
   "source": [
    "# Wait for the data to be available in the topic\n",
    "\n",
    "while True:\n",
    "    msg = consumer.poll(10) #set timeout to 10 sec\n",
    "    saved_msg.append(msg.value().decode('utf-8'))\n",
    "\n",
    "    if msg is None:\n",
    "        print(\"NO Message...cont...!!!\")\n",
    "    if msg.error():\n",
    "        print(\"Consumer error: {}\".format(msg.error()))\n",
    "        continue\n",
    "\n",
    "    print('Received message: {}'.format(msg.value().decode('utf-8')))\n",
    "    print(saved_msg)"
   ]
  },
  {
   "cell_type": "code",
   "execution_count": 6,
   "metadata": {},
   "outputs": [
    {
     "data": {
      "text/plain": [
       "[\"{'id': 1, 'title': 'iPhone 9', 'description': 'An apple mobile which is nothing like apple', 'price': 549, 'discountPercentage': 12.96, 'rating': 4.69, 'stock': 94, 'brand': 'Apple', 'category': 'smartphones', 'thumbnail': 'https://i.dummyjson.com/data/products/1/thumbnail.jpg', 'images': ['https://i.dummyjson.com/data/products/1/1.jpg', 'https://i.dummyjson.com/data/products/1/2.jpg', 'https://i.dummyjson.com/data/products/1/3.jpg', 'https://i.dummyjson.com/data/products/1/4.jpg', 'https://i.dummyjson.com/data/products/1/thumbnail.jpg']}\",\n",
       " '{\\'id\\': 3, \\'title\\': \\'Samsung Universe 9\\', \\'description\\': \"Samsung\\'s new variant which goes beyond Galaxy to the Universe\", \\'price\\': 1249, \\'discountPercentage\\': 15.46, \\'rating\\': 4.09, \\'stock\\': 36, \\'brand\\': \\'Samsung\\', \\'category\\': \\'smartphones\\', \\'thumbnail\\': \\'https://i.dummyjson.com/data/products/3/thumbnail.jpg\\', \\'images\\': [\\'https://i.dummyjson.com/data/products/3/1.jpg\\']}',\n",
       " \"{'id': 4, 'title': 'OPPOF19', 'description': 'OPPO F19 is officially announced on April 2021.', 'price': 280, 'discountPercentage': 17.91, 'rating': 4.3, 'stock': 123, 'brand': 'OPPO', 'category': 'smartphones', 'thumbnail': 'https://i.dummyjson.com/data/products/4/thumbnail.jpg', 'images': ['https://i.dummyjson.com/data/products/4/1.jpg', 'https://i.dummyjson.com/data/products/4/2.jpg', 'https://i.dummyjson.com/data/products/4/3.jpg', 'https://i.dummyjson.com/data/products/4/4.jpg', 'https://i.dummyjson.com/data/products/4/thumbnail.jpg']}\",\n",
       " \"{'id': 5, 'title': 'Huawei P30', 'description': 'Huawei’s re-badged P30 Pro New Edition was officially unveiled yesterday in Germany and now the device has made its way to the UK.', 'price': 499, 'discountPercentage': 10.58, 'rating': 4.09, 'stock': 32, 'brand': 'Huawei', 'category': 'smartphones', 'thumbnail': 'https://i.dummyjson.com/data/products/5/thumbnail.jpg', 'images': ['https://i.dummyjson.com/data/products/5/1.jpg', 'https://i.dummyjson.com/data/products/5/2.jpg', 'https://i.dummyjson.com/data/products/5/3.jpg']}\",\n",
       " \"{'id': 2, 'title': 'iPhone X', 'description': 'SIM-Free, Model A19211 6.5-inch Super Retina HD display with OLED technology A12 Bionic chip with ...', 'price': 899, 'discountPercentage': 17.94, 'rating': 4.44, 'stock': 34, 'brand': 'Apple', 'category': 'smartphones', 'thumbnail': 'https://i.dummyjson.com/data/products/2/thumbnail.jpg', 'images': ['https://i.dummyjson.com/data/products/2/1.jpg', 'https://i.dummyjson.com/data/products/2/2.jpg', 'https://i.dummyjson.com/data/products/2/3.jpg', 'https://i.dummyjson.com/data/products/2/thumbnail.jpg']}\"]"
      ]
     },
     "execution_count": 6,
     "metadata": {},
     "output_type": "execute_result"
    }
   ],
   "source": [
    "# Check saved_msg content\n",
    "saved_msg"
   ]
  },
  {
   "cell_type": "code",
   "execution_count": 7,
   "metadata": {},
   "outputs": [
    {
     "data": {
      "text/plain": [
       "{'id': 1,\n",
       " 'title': 'iPhone 9',\n",
       " 'description': 'An apple mobile which is nothing like apple',\n",
       " 'price': 549,\n",
       " 'discountPercentage': 12.96,\n",
       " 'rating': 4.69,\n",
       " 'stock': 94,\n",
       " 'brand': 'Apple',\n",
       " 'category': 'smartphones',\n",
       " 'thumbnail': 'https://i.dummyjson.com/data/products/1/thumbnail.jpg',\n",
       " 'images': ['https://i.dummyjson.com/data/products/1/1.jpg',\n",
       "  'https://i.dummyjson.com/data/products/1/2.jpg',\n",
       "  'https://i.dummyjson.com/data/products/1/3.jpg',\n",
       "  'https://i.dummyjson.com/data/products/1/4.jpg',\n",
       "  'https://i.dummyjson.com/data/products/1/thumbnail.jpg']}"
      ]
     },
     "execution_count": 7,
     "metadata": {},
     "output_type": "execute_result"
    }
   ],
   "source": [
    "# convert string message into dictionary\n",
    "test_dict = ast.literal_eval(saved_msg[0])\n",
    "test_dict"
   ]
  },
  {
   "cell_type": "code",
   "execution_count": 8,
   "metadata": {},
   "outputs": [
    {
     "data": {
      "text/plain": [
       "[{'id': 1,\n",
       "  'title': 'iPhone 9',\n",
       "  'description': 'An apple mobile which is nothing like apple',\n",
       "  'price': 549,\n",
       "  'discountPercentage': 12.96,\n",
       "  'rating': 4.69,\n",
       "  'stock': 94,\n",
       "  'brand': 'Apple',\n",
       "  'category': 'smartphones',\n",
       "  'thumbnail': 'https://i.dummyjson.com/data/products/1/thumbnail.jpg',\n",
       "  'images': ['https://i.dummyjson.com/data/products/1/1.jpg',\n",
       "   'https://i.dummyjson.com/data/products/1/2.jpg',\n",
       "   'https://i.dummyjson.com/data/products/1/3.jpg',\n",
       "   'https://i.dummyjson.com/data/products/1/4.jpg',\n",
       "   'https://i.dummyjson.com/data/products/1/thumbnail.jpg']},\n",
       " {'id': 3,\n",
       "  'title': 'Samsung Universe 9',\n",
       "  'description': \"Samsung's new variant which goes beyond Galaxy to the Universe\",\n",
       "  'price': 1249,\n",
       "  'discountPercentage': 15.46,\n",
       "  'rating': 4.09,\n",
       "  'stock': 36,\n",
       "  'brand': 'Samsung',\n",
       "  'category': 'smartphones',\n",
       "  'thumbnail': 'https://i.dummyjson.com/data/products/3/thumbnail.jpg',\n",
       "  'images': ['https://i.dummyjson.com/data/products/3/1.jpg']},\n",
       " {'id': 4,\n",
       "  'title': 'OPPOF19',\n",
       "  'description': 'OPPO F19 is officially announced on April 2021.',\n",
       "  'price': 280,\n",
       "  'discountPercentage': 17.91,\n",
       "  'rating': 4.3,\n",
       "  'stock': 123,\n",
       "  'brand': 'OPPO',\n",
       "  'category': 'smartphones',\n",
       "  'thumbnail': 'https://i.dummyjson.com/data/products/4/thumbnail.jpg',\n",
       "  'images': ['https://i.dummyjson.com/data/products/4/1.jpg',\n",
       "   'https://i.dummyjson.com/data/products/4/2.jpg',\n",
       "   'https://i.dummyjson.com/data/products/4/3.jpg',\n",
       "   'https://i.dummyjson.com/data/products/4/4.jpg',\n",
       "   'https://i.dummyjson.com/data/products/4/thumbnail.jpg']},\n",
       " {'id': 5,\n",
       "  'title': 'Huawei P30',\n",
       "  'description': 'Huawei’s re-badged P30 Pro New Edition was officially unveiled yesterday in Germany and now the device has made its way to the UK.',\n",
       "  'price': 499,\n",
       "  'discountPercentage': 10.58,\n",
       "  'rating': 4.09,\n",
       "  'stock': 32,\n",
       "  'brand': 'Huawei',\n",
       "  'category': 'smartphones',\n",
       "  'thumbnail': 'https://i.dummyjson.com/data/products/5/thumbnail.jpg',\n",
       "  'images': ['https://i.dummyjson.com/data/products/5/1.jpg',\n",
       "   'https://i.dummyjson.com/data/products/5/2.jpg',\n",
       "   'https://i.dummyjson.com/data/products/5/3.jpg']},\n",
       " {'id': 2,\n",
       "  'title': 'iPhone X',\n",
       "  'description': 'SIM-Free, Model A19211 6.5-inch Super Retina HD display with OLED technology A12 Bionic chip with ...',\n",
       "  'price': 899,\n",
       "  'discountPercentage': 17.94,\n",
       "  'rating': 4.44,\n",
       "  'stock': 34,\n",
       "  'brand': 'Apple',\n",
       "  'category': 'smartphones',\n",
       "  'thumbnail': 'https://i.dummyjson.com/data/products/2/thumbnail.jpg',\n",
       "  'images': ['https://i.dummyjson.com/data/products/2/1.jpg',\n",
       "   'https://i.dummyjson.com/data/products/2/2.jpg',\n",
       "   'https://i.dummyjson.com/data/products/2/3.jpg',\n",
       "   'https://i.dummyjson.com/data/products/2/thumbnail.jpg']}]"
      ]
     },
     "execution_count": 8,
     "metadata": {},
     "output_type": "execute_result"
    }
   ],
   "source": [
    "# Convert all message from string to dictionary\n",
    "saved_msg_copy = saved_msg.copy()\n",
    "for count in range(len(saved_msg)):\n",
    "    saved_msg_copy[count] = ast.literal_eval(saved_msg_copy[count])\n",
    "saved_msg_copy"
   ]
  },
  {
   "cell_type": "code",
   "execution_count": 9,
   "metadata": {},
   "outputs": [
    {
     "data": {
      "text/plain": [
       "{'products': [{'id': 1,\n",
       "   'title': 'iPhone 9',\n",
       "   'description': 'An apple mobile which is nothing like apple',\n",
       "   'price': 549,\n",
       "   'discountPercentage': 12.96,\n",
       "   'rating': 4.69,\n",
       "   'stock': 94,\n",
       "   'brand': 'Apple',\n",
       "   'category': 'smartphones',\n",
       "   'thumbnail': 'https://i.dummyjson.com/data/products/1/thumbnail.jpg',\n",
       "   'images': ['https://i.dummyjson.com/data/products/1/1.jpg',\n",
       "    'https://i.dummyjson.com/data/products/1/2.jpg',\n",
       "    'https://i.dummyjson.com/data/products/1/3.jpg',\n",
       "    'https://i.dummyjson.com/data/products/1/4.jpg',\n",
       "    'https://i.dummyjson.com/data/products/1/thumbnail.jpg']},\n",
       "  {'id': 3,\n",
       "   'title': 'Samsung Universe 9',\n",
       "   'description': \"Samsung's new variant which goes beyond Galaxy to the Universe\",\n",
       "   'price': 1249,\n",
       "   'discountPercentage': 15.46,\n",
       "   'rating': 4.09,\n",
       "   'stock': 36,\n",
       "   'brand': 'Samsung',\n",
       "   'category': 'smartphones',\n",
       "   'thumbnail': 'https://i.dummyjson.com/data/products/3/thumbnail.jpg',\n",
       "   'images': ['https://i.dummyjson.com/data/products/3/1.jpg']},\n",
       "  {'id': 4,\n",
       "   'title': 'OPPOF19',\n",
       "   'description': 'OPPO F19 is officially announced on April 2021.',\n",
       "   'price': 280,\n",
       "   'discountPercentage': 17.91,\n",
       "   'rating': 4.3,\n",
       "   'stock': 123,\n",
       "   'brand': 'OPPO',\n",
       "   'category': 'smartphones',\n",
       "   'thumbnail': 'https://i.dummyjson.com/data/products/4/thumbnail.jpg',\n",
       "   'images': ['https://i.dummyjson.com/data/products/4/1.jpg',\n",
       "    'https://i.dummyjson.com/data/products/4/2.jpg',\n",
       "    'https://i.dummyjson.com/data/products/4/3.jpg',\n",
       "    'https://i.dummyjson.com/data/products/4/4.jpg',\n",
       "    'https://i.dummyjson.com/data/products/4/thumbnail.jpg']},\n",
       "  {'id': 5,\n",
       "   'title': 'Huawei P30',\n",
       "   'description': 'Huawei’s re-badged P30 Pro New Edition was officially unveiled yesterday in Germany and now the device has made its way to the UK.',\n",
       "   'price': 499,\n",
       "   'discountPercentage': 10.58,\n",
       "   'rating': 4.09,\n",
       "   'stock': 32,\n",
       "   'brand': 'Huawei',\n",
       "   'category': 'smartphones',\n",
       "   'thumbnail': 'https://i.dummyjson.com/data/products/5/thumbnail.jpg',\n",
       "   'images': ['https://i.dummyjson.com/data/products/5/1.jpg',\n",
       "    'https://i.dummyjson.com/data/products/5/2.jpg',\n",
       "    'https://i.dummyjson.com/data/products/5/3.jpg']},\n",
       "  {'id': 2,\n",
       "   'title': 'iPhone X',\n",
       "   'description': 'SIM-Free, Model A19211 6.5-inch Super Retina HD display with OLED technology A12 Bionic chip with ...',\n",
       "   'price': 899,\n",
       "   'discountPercentage': 17.94,\n",
       "   'rating': 4.44,\n",
       "   'stock': 34,\n",
       "   'brand': 'Apple',\n",
       "   'category': 'smartphones',\n",
       "   'thumbnail': 'https://i.dummyjson.com/data/products/2/thumbnail.jpg',\n",
       "   'images': ['https://i.dummyjson.com/data/products/2/1.jpg',\n",
       "    'https://i.dummyjson.com/data/products/2/2.jpg',\n",
       "    'https://i.dummyjson.com/data/products/2/3.jpg',\n",
       "    'https://i.dummyjson.com/data/products/2/thumbnail.jpg']}]}"
      ]
     },
     "execution_count": 9,
     "metadata": {},
     "output_type": "execute_result"
    }
   ],
   "source": [
    "# Make The JSON structure\n",
    "product_data_consumer = {\n",
    "    'products': \n",
    "        saved_msg_copy\n",
    "    }\n",
    "product_data_consumer"
   ]
  },
  {
   "cell_type": "code",
   "execution_count": 10,
   "metadata": {},
   "outputs": [],
   "source": [
    "# Convert DIctionary to JSON\n",
    "product_json_object = json.dumps(product_data_consumer, indent=4)"
   ]
  },
  {
   "cell_type": "code",
   "execution_count": 11,
   "metadata": {},
   "outputs": [],
   "source": [
    "# Save JSON file\n",
    "with open(\"data lake/product.json\", \"w\") as outfile:\n",
    "    outfile.write(product_json_object)"
   ]
  }
 ],
 "metadata": {
  "kernelspec": {
   "display_name": "Python 3",
   "language": "python",
   "name": "python3"
  },
  "language_info": {
   "codemirror_mode": {
    "name": "ipython",
    "version": 3
   },
   "file_extension": ".py",
   "mimetype": "text/x-python",
   "name": "python",
   "nbconvert_exporter": "python",
   "pygments_lexer": "ipython3",
   "version": "3.10.10"
  },
  "orig_nbformat": 4
 },
 "nbformat": 4,
 "nbformat_minor": 2
}
