{
 "cells": [
  {
   "cell_type": "code",
   "execution_count": 1,
   "metadata": {},
   "outputs": [],
   "source": [
    "import requests\n",
    "import json\n",
    "import pandas as pd\n",
    "\n",
    "from confluent_kafka import Producer\n",
    "from confluent_kafka.admin import AdminClient, NewTopic"
   ]
  },
  {
   "cell_type": "code",
   "execution_count": 2,
   "metadata": {},
   "outputs": [
    {
     "name": "stdout",
     "output_type": "stream",
     "text": [
      "{'products': [{'id': 1, 'title': 'iPhone 9', 'description': 'An apple mobile which is nothing like apple', 'price': 549, 'discountPercentage': 12.96, 'rating': 4.69, 'stock': 94, 'brand': 'Apple', 'category': 'smartphones', 'thumbnail': 'https://i.dummyjson.com/data/products/1/thumbnail.jpg', 'images': ['https://i.dummyjson.com/data/products/1/1.jpg', 'https://i.dummyjson.com/data/products/1/2.jpg', 'https://i.dummyjson.com/data/products/1/3.jpg', 'https://i.dummyjson.com/data/products/1/4.jpg', 'https://i.dummyjson.com/data/products/1/thumbnail.jpg']}, {'id': 2, 'title': 'iPhone X', 'description': 'SIM-Free, Model A19211 6.5-inch Super Retina HD display with OLED technology A12 Bionic chip with ...', 'price': 899, 'discountPercentage': 17.94, 'rating': 4.44, 'stock': 34, 'brand': 'Apple', 'category': 'smartphones', 'thumbnail': 'https://i.dummyjson.com/data/products/2/thumbnail.jpg', 'images': ['https://i.dummyjson.com/data/products/2/1.jpg', 'https://i.dummyjson.com/data/products/2/2.jpg', 'https://i.dummyjson.com/data/products/2/3.jpg', 'https://i.dummyjson.com/data/products/2/thumbnail.jpg']}, {'id': 3, 'title': 'Samsung Universe 9', 'description': \"Samsung's new variant which goes beyond Galaxy to the Universe\", 'price': 1249, 'discountPercentage': 15.46, 'rating': 4.09, 'stock': 36, 'brand': 'Samsung', 'category': 'smartphones', 'thumbnail': 'https://i.dummyjson.com/data/products/3/thumbnail.jpg', 'images': ['https://i.dummyjson.com/data/products/3/1.jpg']}, {'id': 4, 'title': 'OPPOF19', 'description': 'OPPO F19 is officially announced on April 2021.', 'price': 280, 'discountPercentage': 17.91, 'rating': 4.3, 'stock': 123, 'brand': 'OPPO', 'category': 'smartphones', 'thumbnail': 'https://i.dummyjson.com/data/products/4/thumbnail.jpg', 'images': ['https://i.dummyjson.com/data/products/4/1.jpg', 'https://i.dummyjson.com/data/products/4/2.jpg', 'https://i.dummyjson.com/data/products/4/3.jpg', 'https://i.dummyjson.com/data/products/4/4.jpg', 'https://i.dummyjson.com/data/products/4/thumbnail.jpg']}, {'id': 5, 'title': 'Huawei P30', 'description': 'Huawei’s re-badged P30 Pro New Edition was officially unveiled yesterday in Germany and now the device has made its way to the UK.', 'price': 499, 'discountPercentage': 10.58, 'rating': 4.09, 'stock': 32, 'brand': 'Huawei', 'category': 'smartphones', 'thumbnail': 'https://i.dummyjson.com/data/products/5/thumbnail.jpg', 'images': ['https://i.dummyjson.com/data/products/5/1.jpg', 'https://i.dummyjson.com/data/products/5/2.jpg', 'https://i.dummyjson.com/data/products/5/3.jpg']}], 'total': 100, 'skip': 0, 'limit': 5}\n"
     ]
    }
   ],
   "source": [
    "import requests\n",
    "\n",
    "resp = requests.get('https://dummyjson.com/products?limit=5')\n",
    "product_dict = resp.json()\n",
    "\n",
    "print(product_dict)\n"
   ]
  },
  {
   "cell_type": "code",
   "execution_count": 3,
   "metadata": {},
   "outputs": [
    {
     "name": "stdout",
     "output_type": "stream",
     "text": [
      "{\n",
      "    \"products\": [\n",
      "        {\n",
      "            \"id\": 1,\n",
      "            \"title\": \"iPhone 9\",\n",
      "            \"description\": \"An apple mobile which is nothing like apple\",\n",
      "            \"price\": 549,\n",
      "            \"discountPercentage\": 12.96,\n",
      "            \"rating\": 4.69,\n",
      "            \"stock\": 94,\n",
      "            \"brand\": \"Apple\",\n",
      "            \"category\": \"smartphones\",\n",
      "            \"thumbnail\": \"https://i.dummyjson.com/data/products/1/thumbnail.jpg\",\n",
      "            \"images\": [\n",
      "                \"https://i.dummyjson.com/data/products/1/1.jpg\",\n",
      "                \"https://i.dummyjson.com/data/products/1/2.jpg\",\n",
      "                \"https://i.dummyjson.com/data/products/1/3.jpg\",\n",
      "                \"https://i.dummyjson.com/data/products/1/4.jpg\",\n",
      "                \"https://i.dummyjson.com/data/products/1/thumbnail.jpg\"\n",
      "            ]\n",
      "        },\n",
      "        {\n",
      "            \"id\": 2,\n",
      "            \"title\": \"iPhone X\",\n",
      "            \"description\": \"SIM-Free, Model A19211 6.5-inch Super Retina HD display with OLED technology A12 Bionic chip with ...\",\n",
      "            \"price\": 899,\n",
      "            \"discountPercentage\": 17.94,\n",
      "            \"rating\": 4.44,\n",
      "            \"stock\": 34,\n",
      "            \"brand\": \"Apple\",\n",
      "            \"category\": \"smartphones\",\n",
      "            \"thumbnail\": \"https://i.dummyjson.com/data/products/2/thumbnail.jpg\",\n",
      "            \"images\": [\n",
      "                \"https://i.dummyjson.com/data/products/2/1.jpg\",\n",
      "                \"https://i.dummyjson.com/data/products/2/2.jpg\",\n",
      "                \"https://i.dummyjson.com/data/products/2/3.jpg\",\n",
      "                \"https://i.dummyjson.com/data/products/2/thumbnail.jpg\"\n",
      "            ]\n",
      "        },\n",
      "        {\n",
      "            \"id\": 3,\n",
      "            \"title\": \"Samsung Universe 9\",\n",
      "            \"description\": \"Samsung's new variant which goes beyond Galaxy to the Universe\",\n",
      "            \"price\": 1249,\n",
      "            \"discountPercentage\": 15.46,\n",
      "            \"rating\": 4.09,\n",
      "            \"stock\": 36,\n",
      "            \"brand\": \"Samsung\",\n",
      "            \"category\": \"smartphones\",\n",
      "            \"thumbnail\": \"https://i.dummyjson.com/data/products/3/thumbnail.jpg\",\n",
      "            \"images\": [\n",
      "                \"https://i.dummyjson.com/data/products/3/1.jpg\"\n",
      "            ]\n",
      "        },\n",
      "        {\n",
      "            \"id\": 4,\n",
      "            \"title\": \"OPPOF19\",\n",
      "            \"description\": \"OPPO F19 is officially announced on April 2021.\",\n",
      "            \"price\": 280,\n",
      "            \"discountPercentage\": 17.91,\n",
      "            \"rating\": 4.3,\n",
      "            \"stock\": 123,\n",
      "            \"brand\": \"OPPO\",\n",
      "            \"category\": \"smartphones\",\n",
      "            \"thumbnail\": \"https://i.dummyjson.com/data/products/4/thumbnail.jpg\",\n",
      "            \"images\": [\n",
      "                \"https://i.dummyjson.com/data/products/4/1.jpg\",\n",
      "                \"https://i.dummyjson.com/data/products/4/2.jpg\",\n",
      "                \"https://i.dummyjson.com/data/products/4/3.jpg\",\n",
      "                \"https://i.dummyjson.com/data/products/4/4.jpg\",\n",
      "                \"https://i.dummyjson.com/data/products/4/thumbnail.jpg\"\n",
      "            ]\n",
      "        },\n",
      "        {\n",
      "            \"id\": 5,\n",
      "            \"title\": \"Huawei P30\",\n",
      "            \"description\": \"Huawei\\u2019s re-badged P30 Pro New Edition was officially unveiled yesterday in Germany and now the device has made its way to the UK.\",\n",
      "            \"price\": 499,\n",
      "            \"discountPercentage\": 10.58,\n",
      "            \"rating\": 4.09,\n",
      "            \"stock\": 32,\n",
      "            \"brand\": \"Huawei\",\n",
      "            \"category\": \"smartphones\",\n",
      "            \"thumbnail\": \"https://i.dummyjson.com/data/products/5/thumbnail.jpg\",\n",
      "            \"images\": [\n",
      "                \"https://i.dummyjson.com/data/products/5/1.jpg\",\n",
      "                \"https://i.dummyjson.com/data/products/5/2.jpg\",\n",
      "                \"https://i.dummyjson.com/data/products/5/3.jpg\"\n",
      "            ]\n",
      "        }\n",
      "    ],\n",
      "    \"total\": 100,\n",
      "    \"skip\": 0,\n",
      "    \"limit\": 5\n",
      "}\n"
     ]
    }
   ],
   "source": [
    "# Using json.dumps to print data inside JSON\n",
    "product_json = json.dumps(product_dict, indent=4)\n",
    "print(product_json)"
   ]
  },
  {
   "cell_type": "code",
   "execution_count": 4,
   "metadata": {},
   "outputs": [
    {
     "data": {
      "text/html": [
       "<div>\n",
       "<style scoped>\n",
       "    .dataframe tbody tr th:only-of-type {\n",
       "        vertical-align: middle;\n",
       "    }\n",
       "\n",
       "    .dataframe tbody tr th {\n",
       "        vertical-align: top;\n",
       "    }\n",
       "\n",
       "    .dataframe thead th {\n",
       "        text-align: right;\n",
       "    }\n",
       "</style>\n",
       "<table border=\"1\" class=\"dataframe\">\n",
       "  <thead>\n",
       "    <tr style=\"text-align: right;\">\n",
       "      <th></th>\n",
       "      <th>id</th>\n",
       "      <th>title</th>\n",
       "      <th>description</th>\n",
       "      <th>price</th>\n",
       "      <th>discountPercentage</th>\n",
       "      <th>rating</th>\n",
       "      <th>stock</th>\n",
       "      <th>brand</th>\n",
       "      <th>category</th>\n",
       "      <th>thumbnail</th>\n",
       "      <th>images</th>\n",
       "    </tr>\n",
       "  </thead>\n",
       "  <tbody>\n",
       "    <tr>\n",
       "      <th>0</th>\n",
       "      <td>1</td>\n",
       "      <td>iPhone 9</td>\n",
       "      <td>An apple mobile which is nothing like apple</td>\n",
       "      <td>549</td>\n",
       "      <td>12.96</td>\n",
       "      <td>4.69</td>\n",
       "      <td>94</td>\n",
       "      <td>Apple</td>\n",
       "      <td>smartphones</td>\n",
       "      <td>https://i.dummyjson.com/data/products/1/thumbn...</td>\n",
       "      <td>[https://i.dummyjson.com/data/products/1/1.jpg...</td>\n",
       "    </tr>\n",
       "    <tr>\n",
       "      <th>1</th>\n",
       "      <td>2</td>\n",
       "      <td>iPhone X</td>\n",
       "      <td>SIM-Free, Model A19211 6.5-inch Super Retina H...</td>\n",
       "      <td>899</td>\n",
       "      <td>17.94</td>\n",
       "      <td>4.44</td>\n",
       "      <td>34</td>\n",
       "      <td>Apple</td>\n",
       "      <td>smartphones</td>\n",
       "      <td>https://i.dummyjson.com/data/products/2/thumbn...</td>\n",
       "      <td>[https://i.dummyjson.com/data/products/2/1.jpg...</td>\n",
       "    </tr>\n",
       "    <tr>\n",
       "      <th>2</th>\n",
       "      <td>3</td>\n",
       "      <td>Samsung Universe 9</td>\n",
       "      <td>Samsung's new variant which goes beyond Galaxy...</td>\n",
       "      <td>1249</td>\n",
       "      <td>15.46</td>\n",
       "      <td>4.09</td>\n",
       "      <td>36</td>\n",
       "      <td>Samsung</td>\n",
       "      <td>smartphones</td>\n",
       "      <td>https://i.dummyjson.com/data/products/3/thumbn...</td>\n",
       "      <td>[https://i.dummyjson.com/data/products/3/1.jpg]</td>\n",
       "    </tr>\n",
       "    <tr>\n",
       "      <th>3</th>\n",
       "      <td>4</td>\n",
       "      <td>OPPOF19</td>\n",
       "      <td>OPPO F19 is officially announced on April 2021.</td>\n",
       "      <td>280</td>\n",
       "      <td>17.91</td>\n",
       "      <td>4.30</td>\n",
       "      <td>123</td>\n",
       "      <td>OPPO</td>\n",
       "      <td>smartphones</td>\n",
       "      <td>https://i.dummyjson.com/data/products/4/thumbn...</td>\n",
       "      <td>[https://i.dummyjson.com/data/products/4/1.jpg...</td>\n",
       "    </tr>\n",
       "    <tr>\n",
       "      <th>4</th>\n",
       "      <td>5</td>\n",
       "      <td>Huawei P30</td>\n",
       "      <td>Huawei’s re-badged P30 Pro New Edition was off...</td>\n",
       "      <td>499</td>\n",
       "      <td>10.58</td>\n",
       "      <td>4.09</td>\n",
       "      <td>32</td>\n",
       "      <td>Huawei</td>\n",
       "      <td>smartphones</td>\n",
       "      <td>https://i.dummyjson.com/data/products/5/thumbn...</td>\n",
       "      <td>[https://i.dummyjson.com/data/products/5/1.jpg...</td>\n",
       "    </tr>\n",
       "  </tbody>\n",
       "</table>\n",
       "</div>"
      ],
      "text/plain": [
       "   id               title                                        description  \\\n",
       "0   1            iPhone 9        An apple mobile which is nothing like apple   \n",
       "1   2            iPhone X  SIM-Free, Model A19211 6.5-inch Super Retina H...   \n",
       "2   3  Samsung Universe 9  Samsung's new variant which goes beyond Galaxy...   \n",
       "3   4             OPPOF19    OPPO F19 is officially announced on April 2021.   \n",
       "4   5          Huawei P30  Huawei’s re-badged P30 Pro New Edition was off...   \n",
       "\n",
       "   price  discountPercentage  rating  stock    brand     category  \\\n",
       "0    549               12.96    4.69     94    Apple  smartphones   \n",
       "1    899               17.94    4.44     34    Apple  smartphones   \n",
       "2   1249               15.46    4.09     36  Samsung  smartphones   \n",
       "3    280               17.91    4.30    123     OPPO  smartphones   \n",
       "4    499               10.58    4.09     32   Huawei  smartphones   \n",
       "\n",
       "                                           thumbnail  \\\n",
       "0  https://i.dummyjson.com/data/products/1/thumbn...   \n",
       "1  https://i.dummyjson.com/data/products/2/thumbn...   \n",
       "2  https://i.dummyjson.com/data/products/3/thumbn...   \n",
       "3  https://i.dummyjson.com/data/products/4/thumbn...   \n",
       "4  https://i.dummyjson.com/data/products/5/thumbn...   \n",
       "\n",
       "                                              images  \n",
       "0  [https://i.dummyjson.com/data/products/1/1.jpg...  \n",
       "1  [https://i.dummyjson.com/data/products/2/1.jpg...  \n",
       "2    [https://i.dummyjson.com/data/products/3/1.jpg]  \n",
       "3  [https://i.dummyjson.com/data/products/4/1.jpg...  \n",
       "4  [https://i.dummyjson.com/data/products/5/1.jpg...  "
      ]
     },
     "execution_count": 4,
     "metadata": {},
     "output_type": "execute_result"
    }
   ],
   "source": [
    "# Convert JSON data to Pandas dataframe to see it more clearly\n",
    "df = pd.DataFrame(product_dict.get('products'))\n",
    "df"
   ]
  },
  {
   "cell_type": "code",
   "execution_count": 5,
   "metadata": {},
   "outputs": [],
   "source": [
    "# Create an AdminClient\n",
    "ac = AdminClient({'bootstrap.servers': 'localhost'})"
   ]
  },
  {
   "cell_type": "code",
   "execution_count": 6,
   "metadata": {},
   "outputs": [],
   "source": [
    "# Create a topic\n",
    "topic = NewTopic('product', num_partitions=2, replication_factor=1)"
   ]
  },
  {
   "cell_type": "code",
   "execution_count": 7,
   "metadata": {},
   "outputs": [
    {
     "data": {
      "text/plain": [
       "NewTopic(topic=product,num_partitions=2)"
      ]
     },
     "execution_count": 7,
     "metadata": {},
     "output_type": "execute_result"
    }
   ],
   "source": [
    "topic"
   ]
  },
  {
   "cell_type": "code",
   "execution_count": 8,
   "metadata": {},
   "outputs": [],
   "source": [
    "product_topic = ac.create_topics([topic])"
   ]
  },
  {
   "cell_type": "code",
   "execution_count": 9,
   "metadata": {},
   "outputs": [
    {
     "data": {
      "text/plain": [
       "dict_values([<Future at 0x2029f6bce20 state=finished returned NoneType>])"
      ]
     },
     "execution_count": 9,
     "metadata": {},
     "output_type": "execute_result"
    }
   ],
   "source": [
    "product_topic.values()"
   ]
  },
  {
   "cell_type": "code",
   "execution_count": 10,
   "metadata": {},
   "outputs": [],
   "source": [
    "#Create Producer\n",
    "producer = Producer({'bootstrap.servers': 'localhost'})"
   ]
  },
  {
   "cell_type": "code",
   "execution_count": 11,
   "metadata": {},
   "outputs": [
    {
     "name": "stdout",
     "output_type": "stream",
     "text": [
      "[{'id': 1, 'title': 'iPhone 9', 'description': 'An apple mobile which is nothing like apple', 'price': 549, 'discountPercentage': 12.96, 'rating': 4.69, 'stock': 94, 'brand': 'Apple', 'category': 'smartphones', 'thumbnail': 'https://i.dummyjson.com/data/products/1/thumbnail.jpg', 'images': ['https://i.dummyjson.com/data/products/1/1.jpg', 'https://i.dummyjson.com/data/products/1/2.jpg', 'https://i.dummyjson.com/data/products/1/3.jpg', 'https://i.dummyjson.com/data/products/1/4.jpg', 'https://i.dummyjson.com/data/products/1/thumbnail.jpg']}, {'id': 2, 'title': 'iPhone X', 'description': 'SIM-Free, Model A19211 6.5-inch Super Retina HD display with OLED technology A12 Bionic chip with ...', 'price': 899, 'discountPercentage': 17.94, 'rating': 4.44, 'stock': 34, 'brand': 'Apple', 'category': 'smartphones', 'thumbnail': 'https://i.dummyjson.com/data/products/2/thumbnail.jpg', 'images': ['https://i.dummyjson.com/data/products/2/1.jpg', 'https://i.dummyjson.com/data/products/2/2.jpg', 'https://i.dummyjson.com/data/products/2/3.jpg', 'https://i.dummyjson.com/data/products/2/thumbnail.jpg']}, {'id': 3, 'title': 'Samsung Universe 9', 'description': \"Samsung's new variant which goes beyond Galaxy to the Universe\", 'price': 1249, 'discountPercentage': 15.46, 'rating': 4.09, 'stock': 36, 'brand': 'Samsung', 'category': 'smartphones', 'thumbnail': 'https://i.dummyjson.com/data/products/3/thumbnail.jpg', 'images': ['https://i.dummyjson.com/data/products/3/1.jpg']}, {'id': 4, 'title': 'OPPOF19', 'description': 'OPPO F19 is officially announced on April 2021.', 'price': 280, 'discountPercentage': 17.91, 'rating': 4.3, 'stock': 123, 'brand': 'OPPO', 'category': 'smartphones', 'thumbnail': 'https://i.dummyjson.com/data/products/4/thumbnail.jpg', 'images': ['https://i.dummyjson.com/data/products/4/1.jpg', 'https://i.dummyjson.com/data/products/4/2.jpg', 'https://i.dummyjson.com/data/products/4/3.jpg', 'https://i.dummyjson.com/data/products/4/4.jpg', 'https://i.dummyjson.com/data/products/4/thumbnail.jpg']}, {'id': 5, 'title': 'Huawei P30', 'description': 'Huawei’s re-badged P30 Pro New Edition was officially unveiled yesterday in Germany and now the device has made its way to the UK.', 'price': 499, 'discountPercentage': 10.58, 'rating': 4.09, 'stock': 32, 'brand': 'Huawei', 'category': 'smartphones', 'thumbnail': 'https://i.dummyjson.com/data/products/5/thumbnail.jpg', 'images': ['https://i.dummyjson.com/data/products/5/1.jpg', 'https://i.dummyjson.com/data/products/5/2.jpg', 'https://i.dummyjson.com/data/products/5/3.jpg']}]\n"
     ]
    }
   ],
   "source": [
    "print(product_dict[\"products\"])\n",
    "product_data = product_dict[\"products\"]"
   ]
  },
  {
   "cell_type": "code",
   "execution_count": 12,
   "metadata": {},
   "outputs": [
    {
     "name": "stdout",
     "output_type": "stream",
     "text": [
      "{'products': [{'id': 1, 'title': 'iPhone 9', 'description': 'An apple mobile which is nothing like apple', 'price': 549, 'discountPercentage': 12.96, 'rating': 4.69, 'stock': 94, 'brand': 'Apple', 'category': 'smartphones', 'thumbnail': 'https://i.dummyjson.com/data/products/1/thumbnail.jpg', 'images': ['https://i.dummyjson.com/data/products/1/1.jpg', 'https://i.dummyjson.com/data/products/1/2.jpg', 'https://i.dummyjson.com/data/products/1/3.jpg', 'https://i.dummyjson.com/data/products/1/4.jpg', 'https://i.dummyjson.com/data/products/1/thumbnail.jpg']}, {'id': 2, 'title': 'iPhone X', 'description': 'SIM-Free, Model A19211 6.5-inch Super Retina HD display with OLED technology A12 Bionic chip with ...', 'price': 899, 'discountPercentage': 17.94, 'rating': 4.44, 'stock': 34, 'brand': 'Apple', 'category': 'smartphones', 'thumbnail': 'https://i.dummyjson.com/data/products/2/thumbnail.jpg', 'images': ['https://i.dummyjson.com/data/products/2/1.jpg', 'https://i.dummyjson.com/data/products/2/2.jpg', 'https://i.dummyjson.com/data/products/2/3.jpg', 'https://i.dummyjson.com/data/products/2/thumbnail.jpg']}, {'id': 3, 'title': 'Samsung Universe 9', 'description': \"Samsung's new variant which goes beyond Galaxy to the Universe\", 'price': 1249, 'discountPercentage': 15.46, 'rating': 4.09, 'stock': 36, 'brand': 'Samsung', 'category': 'smartphones', 'thumbnail': 'https://i.dummyjson.com/data/products/3/thumbnail.jpg', 'images': ['https://i.dummyjson.com/data/products/3/1.jpg']}, {'id': 4, 'title': 'OPPOF19', 'description': 'OPPO F19 is officially announced on April 2021.', 'price': 280, 'discountPercentage': 17.91, 'rating': 4.3, 'stock': 123, 'brand': 'OPPO', 'category': 'smartphones', 'thumbnail': 'https://i.dummyjson.com/data/products/4/thumbnail.jpg', 'images': ['https://i.dummyjson.com/data/products/4/1.jpg', 'https://i.dummyjson.com/data/products/4/2.jpg', 'https://i.dummyjson.com/data/products/4/3.jpg', 'https://i.dummyjson.com/data/products/4/4.jpg', 'https://i.dummyjson.com/data/products/4/thumbnail.jpg']}, {'id': 5, 'title': 'Huawei P30', 'description': 'Huawei’s re-badged P30 Pro New Edition was officially unveiled yesterday in Germany and now the device has made its way to the UK.', 'price': 499, 'discountPercentage': 10.58, 'rating': 4.09, 'stock': 32, 'brand': 'Huawei', 'category': 'smartphones', 'thumbnail': 'https://i.dummyjson.com/data/products/5/thumbnail.jpg', 'images': ['https://i.dummyjson.com/data/products/5/1.jpg', 'https://i.dummyjson.com/data/products/5/2.jpg', 'https://i.dummyjson.com/data/products/5/3.jpg']}], 'total': 100, 'skip': 0, 'limit': 5}\n"
     ]
    }
   ],
   "source": [
    "print(product_dict)"
   ]
  },
  {
   "cell_type": "code",
   "execution_count": 13,
   "metadata": {},
   "outputs": [
    {
     "name": "stdout",
     "output_type": "stream",
     "text": [
      "{'id': 1, 'title': 'iPhone 9', 'description': 'An apple mobile which is nothing like apple', 'price': 549, 'discountPercentage': 12.96, 'rating': 4.69, 'stock': 94, 'brand': 'Apple', 'category': 'smartphones', 'thumbnail': 'https://i.dummyjson.com/data/products/1/thumbnail.jpg', 'images': ['https://i.dummyjson.com/data/products/1/1.jpg', 'https://i.dummyjson.com/data/products/1/2.jpg', 'https://i.dummyjson.com/data/products/1/3.jpg', 'https://i.dummyjson.com/data/products/1/4.jpg', 'https://i.dummyjson.com/data/products/1/thumbnail.jpg']}\n",
      "{'id': 2, 'title': 'iPhone X', 'description': 'SIM-Free, Model A19211 6.5-inch Super Retina HD display with OLED technology A12 Bionic chip with ...', 'price': 899, 'discountPercentage': 17.94, 'rating': 4.44, 'stock': 34, 'brand': 'Apple', 'category': 'smartphones', 'thumbnail': 'https://i.dummyjson.com/data/products/2/thumbnail.jpg', 'images': ['https://i.dummyjson.com/data/products/2/1.jpg', 'https://i.dummyjson.com/data/products/2/2.jpg', 'https://i.dummyjson.com/data/products/2/3.jpg', 'https://i.dummyjson.com/data/products/2/thumbnail.jpg']}\n",
      "{'id': 3, 'title': 'Samsung Universe 9', 'description': \"Samsung's new variant which goes beyond Galaxy to the Universe\", 'price': 1249, 'discountPercentage': 15.46, 'rating': 4.09, 'stock': 36, 'brand': 'Samsung', 'category': 'smartphones', 'thumbnail': 'https://i.dummyjson.com/data/products/3/thumbnail.jpg', 'images': ['https://i.dummyjson.com/data/products/3/1.jpg']}\n",
      "{'id': 4, 'title': 'OPPOF19', 'description': 'OPPO F19 is officially announced on April 2021.', 'price': 280, 'discountPercentage': 17.91, 'rating': 4.3, 'stock': 123, 'brand': 'OPPO', 'category': 'smartphones', 'thumbnail': 'https://i.dummyjson.com/data/products/4/thumbnail.jpg', 'images': ['https://i.dummyjson.com/data/products/4/1.jpg', 'https://i.dummyjson.com/data/products/4/2.jpg', 'https://i.dummyjson.com/data/products/4/3.jpg', 'https://i.dummyjson.com/data/products/4/4.jpg', 'https://i.dummyjson.com/data/products/4/thumbnail.jpg']}\n",
      "{'id': 5, 'title': 'Huawei P30', 'description': 'Huawei’s re-badged P30 Pro New Edition was officially unveiled yesterday in Germany and now the device has made its way to the UK.', 'price': 499, 'discountPercentage': 10.58, 'rating': 4.09, 'stock': 32, 'brand': 'Huawei', 'category': 'smartphones', 'thumbnail': 'https://i.dummyjson.com/data/products/5/thumbnail.jpg', 'images': ['https://i.dummyjson.com/data/products/5/1.jpg', 'https://i.dummyjson.com/data/products/5/2.jpg', 'https://i.dummyjson.com/data/products/5/3.jpg']}\n"
     ]
    }
   ],
   "source": [
    "for data in product_data:\n",
    "    print(data)"
   ]
  },
  {
   "cell_type": "code",
   "execution_count": null,
   "metadata": {},
   "outputs": [],
   "source": [
    "# send_data = \"This is the data number => \" \n",
    "# send_arr = [1,2,3,4,5,6,7,8,9,10]"
   ]
  },
  {
   "cell_type": "code",
   "execution_count": 15,
   "metadata": {},
   "outputs": [
    {
     "name": "stdout",
     "output_type": "stream",
     "text": [
      "Message Delivered to Topic =>  product  @Partition =>  0\n",
      "Message Delivered to Topic =>  product  @Partition =>  0\n",
      "Message Delivered to Topic =>  product  @Partition =>  1\n",
      "Message Delivered to Topic =>  product  @Partition =>  1\n",
      "Message Delivered to Topic =>  product  @Partition =>  1\n"
     ]
    }
   ],
   "source": [
    "for val in product_data:\n",
    "    send_msg = str(val)\n",
    "\n",
    "    # send data using the producer\n",
    "\n",
    "    producer.produce('product', send_msg.encode('utf-8'),\n",
    "        callback = lambda err,msg : print(\"Message Delivered to Topic => \", msg.topic(),\n",
    "                                            \" @Partition => \", msg.partition()) )\n",
    "\n",
    "    #\n",
    "    producer.flush()"
   ]
  }
 ],
 "metadata": {
  "kernelspec": {
   "display_name": "Python 3",
   "language": "python",
   "name": "python3"
  },
  "language_info": {
   "codemirror_mode": {
    "name": "ipython",
    "version": 3
   },
   "file_extension": ".py",
   "mimetype": "text/x-python",
   "name": "python",
   "nbconvert_exporter": "python",
   "pygments_lexer": "ipython3",
   "version": "3.10.10"
  },
  "orig_nbformat": 4
 },
 "nbformat": 4,
 "nbformat_minor": 2
}
